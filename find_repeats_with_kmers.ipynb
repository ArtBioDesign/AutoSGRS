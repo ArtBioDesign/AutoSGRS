{
 "cells": [
  {
   "cell_type": "code",
   "execution_count": 16,
   "id": "e50ee3ae",
   "metadata": {},
   "outputs": [],
   "source": [
    "import subprocess\n",
    "import pandas as pd\n",
    "import os\n",
    "from os.path import  exists\n",
    "\n",
    "# 定义K-mer大小和阈值\n",
    "kmer_size = 100\n",
    "Repetitive_quantity = 15\n",
    "genome_name = \"Yarrowia_lipolytica\"\n",
    "\n",
    "# 定义输入FASTA文件和输出Jellyfish文件\n",
    "genome_fasta_path = \"/home/yanghe/primer/genome_seq_analysis/input/GCA_001761485.1_ASM176148v1_genomic.fna\"\n",
    "output_path = \"/home/yanghe/primer/genome_seq_analysis/output\"\n",
    "if not exists(output_path):\n",
    "    os.makedirs(output_path)\n",
    "\n",
    "\n",
    "#拼接前序列\n",
    "target1_path = os.path.join(output_path, \"kmer_100_15.fasta\")\n",
    "#拼接后序列的fasta文件路径\n",
    "target2_path = os.path.join(output_path, \"kmer_100_15_bowtie.fasta\")\n",
    "  \n",
    "#kmer参数\n",
    "jellyfish_output = os.path.join(output_path, f\"{genome_name}_kmer_counts.jf\" )\n",
    "jellyfish_output_tsv = os.path.join(output_path, f\"{genome_name}_kmer_counts.tsv\" )\n",
    "\n",
    "#软件路径\n",
    "BOWTIE_PATH = \"/home/yanghe/software/bowtie\"\n",
    "bowtie_workdir = os.path.join(output_path, \"bowtie\")"
   ]
  },
  {
   "cell_type": "code",
   "execution_count": 17,
   "id": "d20114db",
   "metadata": {},
   "outputs": [],
   "source": [
    "def revComp(seq):\n",
    "    complementSeq=seq.translate(str.maketrans('ACGTacgtRYMKrymkVBHDvbhd', 'TGCAtgcaYRKMyrkmBVDHbvdh'))\n",
    "    revcompSeq = complementSeq[::-1]\n",
    "    return revcompSeq\n",
    "\n",
    "def merge_df_by_rule(kmer_350_sam_df):\n",
    "    df_list = []\n",
    "    k = 0\n",
    "    next = 0\n",
    "    all_list = []\n",
    "    \n",
    "    for i,v in kmer_350_sam_df.iterrows():\n",
    "            \n",
    "            if next == 0:  \n",
    "                next = v[\"ReferenceStart\"]     \n",
    "\n",
    "            start = v[\"ReferenceStart\"]\n",
    "\n",
    "            if start == next:\n",
    "                pass\n",
    "            else:\n",
    "                print(\"kljdf\")\n",
    "                df = kmer_350_sam_df[k:i]\n",
    "                df_list.append(df)\n",
    "                k = i\n",
    "                next = start\n",
    "\n",
    "            next = next + 1\n",
    "\n",
    "    df = kmer_350_sam_df[k:]\n",
    "    df_list.append(df)\n",
    "\n",
    "    for item in df_list:\n",
    "            str_merge_all = str_merge(list(item[\"Sequence\"]))\n",
    "            all_list.append(str_merge_all)\n",
    "\n",
    "    str_merge_df = pd.DataFrame( data = all_list, columns = [\"sequence\"] ) \n",
    "    str_merge_df[\"id\"] = str_merge_df.index\n",
    "    str_merge_df = str_merge_df.drop_duplicates(\"sequence\")\n",
    "\n",
    "    return str_merge_df\n",
    "\n",
    "def str_merge(str_list):\n",
    "\n",
    "    # 初始化结果字符串为第一个字符串\n",
    "    merged_result = str_list[0]\n",
    "\n",
    "    # 从第二个字符串开始，每个字符串只取最后一个字母进行拼接\n",
    "    for s in str_list[1:]:\n",
    "        merged_result += s[-1]\n",
    "    return merged_result\n",
    "\n",
    "def df_to_fasta(df,fasta_filename):\n",
    "    with open(fasta_filename, 'w') as fasta_file:\n",
    "        for index, row in df.iterrows():\n",
    "            sequence_id = row['id']\n",
    "            sequence = row['sequence']\n",
    "            fasta_file.write(f'>{sequence_id}\\n{sequence}\\n')\n",
    "\n",
    "def parse_sam_file(sam_file_path = \"alignment.sam\"):\n",
    "\n",
    "    # 定义用于存储比对结果的列表\n",
    "    alignment_data = []  \n",
    "\n",
    "    with open(sam_file_path, \"r\") as sam_file:\n",
    "        for line in sam_file:\n",
    "            if not line.startswith(\"@\"):  # 跳过SAM文件头部\n",
    "                fields = line.strip().split(\"\\t\")\n",
    "                read_name = fields[0]  \n",
    "                chain = fields[1]\n",
    "                reference_name = fields[2]\n",
    "                reference_start = int(fields[3])  \n",
    "                sequence = fields[9]\n",
    "                mismatch = fields[-2]\n",
    "                matching_number = fields[-1]\n",
    "\n",
    "                alignment_data.append([read_name, chain, reference_name, reference_start, sequence, mismatch, matching_number])\n",
    "\n",
    "    # 创建DataFrame\n",
    "    columns = [\"ReadName\",\"chain\", \"ReferenceName\", \"ReferenceStart\", \"Sequence\",\"Mismatch\", \"MatchingNumber\"]\n",
    "    alignment_df = pd.DataFrame(alignment_data, columns=columns)\n",
    "\n",
    "    return alignment_df\n",
    "\n",
    "def bowtie_seq_genome(workdir, genome_path, genome_name, target_path ,option):\n",
    "\n",
    "    if not exists(workdir):\n",
    "        os.makedirs(workdir)\n",
    "\n",
    "    index_path = os.path.join(workdir,genome_name)  \n",
    "\n",
    "    sam_path = os.path.join( index_path, 'output.sam')  \n",
    "\n",
    "    if not exists(index_path):\n",
    "        os.makedirs(index_path)\n",
    "        # index = os.path.join(index_prefix, 'genome_index')\n",
    "        # os.chmod(f'{config.BOWTIE_PATH}bowtie-build', 0o755)\n",
    "        index_prefix = os.path.join(index_path, 'genome_index')\n",
    "        cmd = f'{BOWTIE_PATH}/bowtie-build {genome_path} {index_prefix}'\n",
    "        print(cmd)\n",
    "        os.system(cmd)\n",
    "\n",
    "    # os.chmod(f'{config.BOWTIE_PATH}bowtie', 0o755)\n",
    "    index_prefix = os.path.join(index_path, 'genome_index')\n",
    "    cmd = f'{BOWTIE_PATH}/bowtie -p 2 -v 0  {option} --sam-nohead -k 1000000000 {index_prefix} -f {target_path} -S {sam_path}'\n",
    "    print(cmd) \n",
    "    os.system(cmd)\n",
    "\n",
    "    #解析  \n",
    "    sam_df = parse_sam_file(sam_path)  \n",
    "\n",
    "    #删除文件\n",
    "\n",
    "    return sam_df\n"
   ]
  },
  {
   "cell_type": "code",
   "execution_count": 18,
   "id": "3de7eed1",
   "metadata": {},
   "outputs": [
    {
     "name": "stdout",
     "output_type": "stream",
     "text": [
      "jellyfish count  -m 100 -t 16 -s 100M  -o /home/yanghe/primer/genome_seq_analysis/output/Yarrowia_lipolytica_kmer_counts.jf /home/yanghe/primer/genome_seq_analysis/input/GCA_001761485.1_ASM176148v1_genomic.fna\n"
     ]
    }
   ],
   "source": [
    "#1. 运行Jellyfish计数  \n",
    "jellyfish_cmd = f\"jellyfish count  -m {kmer_size} -t 16 -s 100M  -o {jellyfish_output} {genome_fasta_path}\"  \n",
    "subprocess.call(jellyfish_cmd, shell=True)\n",
    "print( jellyfish_cmd )"
   ]
  },
  {
   "cell_type": "code",
   "execution_count": 19,
   "id": "2ecc2c24",
   "metadata": {},
   "outputs": [
    {
     "data": {
      "text/plain": [
       "0"
      ]
     },
     "execution_count": 19,
     "metadata": {},
     "output_type": "execute_result"
    }
   ],
   "source": [
    "#2. 按列分别存储信息的计数结果\n",
    "count_cmd_csv = f\"jellyfish dump -c -t {jellyfish_output} > {jellyfish_output_tsv}\"\n",
    "subprocess.call(count_cmd_csv, shell=True)"
   ]
  },
  {
   "cell_type": "code",
   "execution_count": 20,
   "id": "84918c49",
   "metadata": {},
   "outputs": [
    {
     "name": "stdout",
     "output_type": "stream",
     "text": [
      "kmer序列的dataframe：                                                    sequence  count\n",
      "218985    AGCGTAAAAGGCGGCCGAGGCCACCGAGAGAACAGCGTAGCAGGGC...     15\n",
      "369159    CGTAAAAGGCGGCCGAGGCCACCGAGAGAACAGCGTAGCAGGGCGC...     15\n",
      "443598    ACAGTAGCAAGCGTAAAAGGCGGCCGAGGCCACCGAGAGAACAGCG...     15\n",
      "813844    AACACGGACTGAACCAGGTTTTTTTATGATTTTTTTACTGGAAATA...     16\n",
      "1155598   TTCTTCGTCATTGGTTTGGTTCTGCGTCCCCTGTGGTGACTACGCG...     15\n",
      "...                                                     ...    ...\n",
      "19535083  CTTCTTCGTCATTGGTTTGGTTCTGCGTCCCCTGTGGTGACTACGC...     15\n",
      "19616870  CAGTAGCAAGCGTAAAAGGCGGCCGAGGCCACCGAGAGAACAGCGT...     15\n",
      "19920578  TCTCCTTGTGGTTCTTCTTCGTCATTGGTTTGGTTCTGCGTCCCCT...     15\n",
      "20020323  TTATGATTTTTTTACTGGAAATAGGTACGTGCCAAGTTGGACCATG...     16\n",
      "20158691  TGGACCAACATACAACACGGACTGAACCAGGTTTTTTTATGATTTT...     15\n",
      "\n",
      "[110 rows x 2 columns]\n"
     ]
    }
   ],
   "source": [
    "#3. 读取kmer结果\n",
    "column_names = [\"sequence\", \"count\"]\n",
    "df = pd.read_csv(jellyfish_output_tsv, sep='\\t', names=column_names)\n",
    "print( \"kmer序列的dataframe：\" ,df[df[\"count\"]>=Repetitive_quantity] )"
   ]
  },
  {
   "cell_type": "code",
   "execution_count": 21,
   "id": "01f9b6b2",
   "metadata": {},
   "outputs": [
    {
     "name": "stdout",
     "output_type": "stream",
     "text": [
      "kmer序列的长度： 100\n"
     ]
    }
   ],
   "source": [
    "#4. 存kmer序列到fasta\n",
    "kmer_350_df = df[df[\"count\"]>=Repetitive_quantity].reset_index(drop=True) \n",
    "kmer_350_df[\"id\"] = kmer_350_df.index.astype(str) + \"_\" + kmer_350_df[\"count\"].astype(str)\n",
    "df_to_fasta(kmer_350_df, target1_path)\n",
    "# 打印第一个 k-mer 序列的长度\n",
    "if not kmer_350_df.empty:\n",
    "    print(\"kmer序列的长度：\", len(kmer_350_df.loc[0, \"sequence\"]))\n",
    "else:\n",
    "    print(\"过滤后的 DataFrame 为空\")"
   ]
  },
  {
   "cell_type": "code",
   "execution_count": 22,
   "id": "6405215f",
   "metadata": {},
   "outputs": [
    {
     "name": "stdout",
     "output_type": "stream",
     "text": [
      "/home/yanghe/software/bowtie/bowtie -p 2 -v 0  --norc --sam-nohead -k 1000000000 /home/yanghe/primer/genome_seq_analysis/output/bowtie/Yarrowia_lipolytica/genome_index -f /home/yanghe/primer/genome_seq_analysis/output/kmer_100_15.fasta -S /home/yanghe/primer/genome_seq_analysis/output/bowtie/Yarrowia_lipolytica/output.sam\n"
     ]
    },
    {
     "name": "stderr",
     "output_type": "stream",
     "text": [
      "Setting the index via positional argument will be deprecated in a future release. Please use -x option instead.\n",
      "# reads processed: 110\n",
      "# reads with at least one alignment: 110 (100.00%)\n",
      "# reads that failed to align: 0 (0.00%)\n",
      "Reported 1696 alignments\n"
     ]
    }
   ],
   "source": [
    "#5. 序列比对，拿到kmer序列的坐标\n",
    "kmer_350_sam_df = bowtie_seq_genome(bowtie_workdir, genome_fasta_path, genome_name, target1_path,option=\"--norc\")\n",
    "kmer_350_sam_df = kmer_350_sam_df.sort_values(by='ReferenceStart', ascending=True)\n",
    "kmer_350_sam_df = kmer_350_sam_df.drop_duplicates(\"Sequence\").reset_index(drop=True)"
   ]
  },
  {
   "cell_type": "code",
   "execution_count": 23,
   "id": "5a8fa99c",
   "metadata": {},
   "outputs": [
    {
     "name": "stdout",
     "output_type": "stream",
     "text": [
      "kljdf\n",
      "kljdf\n",
      "kljdf\n",
      "kljdf\n",
      "kljdf\n"
     ]
    }
   ],
   "source": [
    "#6. 根据坐标拼接kmer序列\n",
    "merge_str_df = merge_df_by_rule(kmer_350_sam_df)"
   ]
  },
  {
   "cell_type": "code",
   "execution_count": 24,
   "id": "1c143123",
   "metadata": {},
   "outputs": [
    {
     "name": "stdout",
     "output_type": "stream",
     "text": [
      "/home/yanghe/software/bowtie/bowtie -p 2 -v 0   --sam-nohead -k 1000000000 /home/yanghe/primer/genome_seq_analysis/output/bowtie/Yarrowia_lipolytica/genome_index -f /home/yanghe/primer/genome_seq_analysis/output/kmer_100_15_bowtie.fasta -S /home/yanghe/primer/genome_seq_analysis/output/bowtie/Yarrowia_lipolytica/output.sam\n"
     ]
    },
    {
     "name": "stderr",
     "output_type": "stream",
     "text": [
      "Setting the index via positional argument will be deprecated in a future release. Please use -x option instead.\n",
      "# reads processed: 6\n",
      "# reads with at least one alignment: 6 (100.00%)\n",
      "# reads that failed to align: 0 (0.00%)\n",
      "Reported 160 alignments\n"
     ]
    }
   ],
   "source": [
    "#7. 序列比对拼接后的序列\n",
    "df_to_fasta(merge_str_df, target2_path)\n",
    "merge_str_sam_df = bowtie_seq_genome(bowtie_workdir, genome_fasta_path, genome_name, target2_path, option=\"\")\n",
    "merge_str_sam_df[\"len\"] = merge_str_sam_df.Sequence.apply(lambda x: len(x))   "
   ]
  },
  {
   "cell_type": "code",
   "execution_count": 25,
   "id": "d43cd591",
   "metadata": {},
   "outputs": [],
   "source": [
    "#8. 对拼接后的序列进行标准化处理\n",
    "merge_str_sam_df[\"Sequence\"] = merge_str_sam_df.apply(lambda row: revComp(row[\"Sequence\"]) if row[\"chain\"] == \"16\" else row[\"Sequence\"], axis=1)\n",
    "merge_str_sam_df[\"MatchingNumber\"] = merge_str_sam_df.MatchingNumber.str.replace(\"XM:i:\", \"\")\n",
    "merge_str_sam_df[\"ReferenceEnd\"] = merge_str_sam_df[\"ReferenceStart\"]+merge_str_sam_df[\"len\"]\n",
    "merge_str_sam_df[\"Coordinate\"] = merge_str_sam_df[\"ReferenceName\"]+\":\"+merge_str_sam_df[\"ReferenceStart\"].astype(str)+\"-\"+merge_str_sam_df[\"ReferenceEnd\"].astype(str)\n",
    "merge_df = merge_str_sam_df[[\"Sequence\", \"Coordinate\", \"len\", \"MatchingNumber\"]].sort_values(by='MatchingNumber', ascending=False)\n",
    "def sort_coordinates(coords):\n",
    "    sorted_coords = sorted(coords, key=lambda x: int(x.split(\":\")[1].split(\"-\")[0]))\n",
    "    return \",\".join(sorted_coords)\n",
    "merge_df = merge_df.groupby(\"Sequence\")[\"Coordinate\"].agg(lambda coords: sort_coordinates(coords)).reset_index()"
   ]
  },
  {
   "cell_type": "code",
   "execution_count": 26,
   "id": "6aa8e59a",
   "metadata": {},
   "outputs": [],
   "source": [
    "#9. 输出\n",
    "merge_df[\"Genome\"] = genome_name\n",
    "merge_df.to_csv(os.path.join(output_path,\"result.csv\"), index=False)\n"
   ]
  },
  {
   "cell_type": "code",
   "execution_count": 27,
   "id": "8948e84a",
   "metadata": {},
   "outputs": [
    {
     "data": {
      "text/html": [
       "<div>\n",
       "<style scoped>\n",
       "    .dataframe tbody tr th:only-of-type {\n",
       "        vertical-align: middle;\n",
       "    }\n",
       "\n",
       "    .dataframe tbody tr th {\n",
       "        vertical-align: top;\n",
       "    }\n",
       "\n",
       "    .dataframe thead th {\n",
       "        text-align: right;\n",
       "    }\n",
       "</style>\n",
       "<table border=\"1\" class=\"dataframe\">\n",
       "  <thead>\n",
       "    <tr style=\"text-align: right;\">\n",
       "      <th></th>\n",
       "      <th>Sequence</th>\n",
       "      <th>Coordinate</th>\n",
       "      <th>Genome</th>\n",
       "    </tr>\n",
       "  </thead>\n",
       "  <tbody>\n",
       "    <tr>\n",
       "      <th>0</th>\n",
       "      <td>ACAGTAGCAAGCGTAAAAGGCGGCCGAGGCCACCGAGAGAACAGCG...</td>\n",
       "      <td>CP017556.1:275162-275276,CP017556.1:293482-293...</td>\n",
       "      <td>Yarrowia_lipolytica</td>\n",
       "    </tr>\n",
       "    <tr>\n",
       "      <th>1</th>\n",
       "      <td>ACGAACAAACACGCGAAGCTATGTGGACCAACATACAACACGGACT...</td>\n",
       "      <td>CP017556.1:293681-293853,CP017558.1:451630-451...</td>\n",
       "      <td>Yarrowia_lipolytica</td>\n",
       "    </tr>\n",
       "    <tr>\n",
       "      <th>2</th>\n",
       "      <td>AGGATTCTCGTATGGTCTCCCACTACAATACTAACTGGGCTCTCTG...</td>\n",
       "      <td>CP017558.1:8108-8209,CP017553.1:415484-415585,...</td>\n",
       "      <td>Yarrowia_lipolytica</td>\n",
       "    </tr>\n",
       "    <tr>\n",
       "      <th>3</th>\n",
       "      <td>CGGCCATATCCTGGTGAAAATACGGCTTCCCGTCCGATCAGCCATA...</td>\n",
       "      <td>CP017554.1:29871-29972,CP017557.1:74230-74331,...</td>\n",
       "      <td>Yarrowia_lipolytica</td>\n",
       "    </tr>\n",
       "    <tr>\n",
       "      <th>4</th>\n",
       "      <td>GATGAACGAACAAACACGCGAAGCTATGTGGACCAACATACAACAC...</td>\n",
       "      <td>CP017556.1:293676-293778,CP017558.1:451705-451...</td>\n",
       "      <td>Yarrowia_lipolytica</td>\n",
       "    </tr>\n",
       "    <tr>\n",
       "      <th>5</th>\n",
       "      <td>TCTCCTTGTGGTTCTTCTTCGTCATTGGTTTGGTTCTGCGTCCCCT...</td>\n",
       "      <td>CP017556.1:275162-275276,CP017556.1:293482-293...</td>\n",
       "      <td>Yarrowia_lipolytica</td>\n",
       "    </tr>\n",
       "  </tbody>\n",
       "</table>\n",
       "</div>"
      ],
      "text/plain": [
       "                                            Sequence  \\\n",
       "0  ACAGTAGCAAGCGTAAAAGGCGGCCGAGGCCACCGAGAGAACAGCG...   \n",
       "1  ACGAACAAACACGCGAAGCTATGTGGACCAACATACAACACGGACT...   \n",
       "2  AGGATTCTCGTATGGTCTCCCACTACAATACTAACTGGGCTCTCTG...   \n",
       "3  CGGCCATATCCTGGTGAAAATACGGCTTCCCGTCCGATCAGCCATA...   \n",
       "4  GATGAACGAACAAACACGCGAAGCTATGTGGACCAACATACAACAC...   \n",
       "5  TCTCCTTGTGGTTCTTCTTCGTCATTGGTTTGGTTCTGCGTCCCCT...   \n",
       "\n",
       "                                          Coordinate               Genome  \n",
       "0  CP017556.1:275162-275276,CP017556.1:293482-293...  Yarrowia_lipolytica  \n",
       "1  CP017556.1:293681-293853,CP017558.1:451630-451...  Yarrowia_lipolytica  \n",
       "2  CP017558.1:8108-8209,CP017553.1:415484-415585,...  Yarrowia_lipolytica  \n",
       "3  CP017554.1:29871-29972,CP017557.1:74230-74331,...  Yarrowia_lipolytica  \n",
       "4  CP017556.1:293676-293778,CP017558.1:451705-451...  Yarrowia_lipolytica  \n",
       "5  CP017556.1:275162-275276,CP017556.1:293482-293...  Yarrowia_lipolytica  "
      ]
     },
     "execution_count": 27,
     "metadata": {},
     "output_type": "execute_result"
    }
   ],
   "source": [
    "merge_df  "
   ]
  },
  {
   "cell_type": "code",
   "execution_count": null,
   "id": "6a4389ea",
   "metadata": {},
   "outputs": [],
   "source": []
  }
 ],
 "metadata": {
  "kernelspec": {
   "display_name": "Python 3 (ipykernel)",
   "language": "python",
   "name": "python3"
  },
  "language_info": {
   "codemirror_mode": {
    "name": "ipython",
    "version": 3
   },
   "file_extension": ".py",
   "mimetype": "text/x-python",
   "name": "python",
   "nbconvert_exporter": "python",
   "pygments_lexer": "ipython3",
   "version": "3.8.18"
  }
 },
 "nbformat": 4,
 "nbformat_minor": 5
}
